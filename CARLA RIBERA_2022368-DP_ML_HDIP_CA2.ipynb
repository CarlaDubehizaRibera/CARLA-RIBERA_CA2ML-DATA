{
 "cells": [
  {
   "cell_type": "markdown",
   "id": "e2222203",
   "metadata": {},
   "source": [
    "# **NHANES Data Analysis for Health and Nutrition Assessment**"
   ]
  },
  {
   "cell_type": "markdown",
   "id": "353ed678",
   "metadata": {},
   "source": [
    "### Characterization of the Dataset\n",
    "\n",
    "##### Import Libraries"
   ]
  },
  {
   "cell_type": "code",
   "execution_count": 2,
   "id": "d00a4a49",
   "metadata": {},
   "outputs": [],
   "source": [
    "import pandas as pd\n",
    "\n",
    "# Load the dataset\n",
    "file_path = 'NHANESageprediction.csv'  # Update this with the correct file path\n",
    "data = pd.read_csv(file_path)"
   ]
  },
  {
   "cell_type": "code",
   "execution_count": 3,
   "id": "d4586dfb",
   "metadata": {},
   "outputs": [
    {
     "name": "stdout",
     "output_type": "stream",
     "text": [
      "Size of the dataset (rows, columns): (2278, 10)\n",
      "\n",
      "First five rows of the dataset:\n"
     ]
    },
    {
     "data": {
      "text/html": [
       "<style type=\"text/css\">\n",
       "#T_28030 th {\n",
       "  font-size: 10pt;\n",
       "}\n",
       "</style>\n",
       "<table id=\"T_28030\">\n",
       "  <thead>\n",
       "    <tr>\n",
       "      <th class=\"blank level0\" >&nbsp;</th>\n",
       "      <th id=\"T_28030_level0_col0\" class=\"col_heading level0 col0\" >SEQN</th>\n",
       "      <th id=\"T_28030_level0_col1\" class=\"col_heading level0 col1\" >age_group</th>\n",
       "      <th id=\"T_28030_level0_col2\" class=\"col_heading level0 col2\" >RIDAGEYR</th>\n",
       "      <th id=\"T_28030_level0_col3\" class=\"col_heading level0 col3\" >RIAGENDR</th>\n",
       "      <th id=\"T_28030_level0_col4\" class=\"col_heading level0 col4\" >PAQ605</th>\n",
       "      <th id=\"T_28030_level0_col5\" class=\"col_heading level0 col5\" >BMXBMI</th>\n",
       "      <th id=\"T_28030_level0_col6\" class=\"col_heading level0 col6\" >LBXGLU</th>\n",
       "      <th id=\"T_28030_level0_col7\" class=\"col_heading level0 col7\" >DIQ010</th>\n",
       "      <th id=\"T_28030_level0_col8\" class=\"col_heading level0 col8\" >LBXGLT</th>\n",
       "      <th id=\"T_28030_level0_col9\" class=\"col_heading level0 col9\" >LBXIN</th>\n",
       "    </tr>\n",
       "  </thead>\n",
       "  <tbody>\n",
       "    <tr>\n",
       "      <th id=\"T_28030_level0_row0\" class=\"row_heading level0 row0\" >0</th>\n",
       "      <td id=\"T_28030_row0_col0\" class=\"data row0 col0\" >73564.000000</td>\n",
       "      <td id=\"T_28030_row0_col1\" class=\"data row0 col1\" >Adult</td>\n",
       "      <td id=\"T_28030_row0_col2\" class=\"data row0 col2\" >61.000000</td>\n",
       "      <td id=\"T_28030_row0_col3\" class=\"data row0 col3\" >2.000000</td>\n",
       "      <td id=\"T_28030_row0_col4\" class=\"data row0 col4\" >2.000000</td>\n",
       "      <td id=\"T_28030_row0_col5\" class=\"data row0 col5\" >35.700000</td>\n",
       "      <td id=\"T_28030_row0_col6\" class=\"data row0 col6\" >110.000000</td>\n",
       "      <td id=\"T_28030_row0_col7\" class=\"data row0 col7\" >2.000000</td>\n",
       "      <td id=\"T_28030_row0_col8\" class=\"data row0 col8\" >150.000000</td>\n",
       "      <td id=\"T_28030_row0_col9\" class=\"data row0 col9\" >14.910000</td>\n",
       "    </tr>\n",
       "    <tr>\n",
       "      <th id=\"T_28030_level0_row1\" class=\"row_heading level0 row1\" >1</th>\n",
       "      <td id=\"T_28030_row1_col0\" class=\"data row1 col0\" >73568.000000</td>\n",
       "      <td id=\"T_28030_row1_col1\" class=\"data row1 col1\" >Adult</td>\n",
       "      <td id=\"T_28030_row1_col2\" class=\"data row1 col2\" >26.000000</td>\n",
       "      <td id=\"T_28030_row1_col3\" class=\"data row1 col3\" >2.000000</td>\n",
       "      <td id=\"T_28030_row1_col4\" class=\"data row1 col4\" >2.000000</td>\n",
       "      <td id=\"T_28030_row1_col5\" class=\"data row1 col5\" >20.300000</td>\n",
       "      <td id=\"T_28030_row1_col6\" class=\"data row1 col6\" >89.000000</td>\n",
       "      <td id=\"T_28030_row1_col7\" class=\"data row1 col7\" >2.000000</td>\n",
       "      <td id=\"T_28030_row1_col8\" class=\"data row1 col8\" >80.000000</td>\n",
       "      <td id=\"T_28030_row1_col9\" class=\"data row1 col9\" >3.850000</td>\n",
       "    </tr>\n",
       "    <tr>\n",
       "      <th id=\"T_28030_level0_row2\" class=\"row_heading level0 row2\" >2</th>\n",
       "      <td id=\"T_28030_row2_col0\" class=\"data row2 col0\" >73576.000000</td>\n",
       "      <td id=\"T_28030_row2_col1\" class=\"data row2 col1\" >Adult</td>\n",
       "      <td id=\"T_28030_row2_col2\" class=\"data row2 col2\" >16.000000</td>\n",
       "      <td id=\"T_28030_row2_col3\" class=\"data row2 col3\" >1.000000</td>\n",
       "      <td id=\"T_28030_row2_col4\" class=\"data row2 col4\" >2.000000</td>\n",
       "      <td id=\"T_28030_row2_col5\" class=\"data row2 col5\" >23.200000</td>\n",
       "      <td id=\"T_28030_row2_col6\" class=\"data row2 col6\" >89.000000</td>\n",
       "      <td id=\"T_28030_row2_col7\" class=\"data row2 col7\" >2.000000</td>\n",
       "      <td id=\"T_28030_row2_col8\" class=\"data row2 col8\" >68.000000</td>\n",
       "      <td id=\"T_28030_row2_col9\" class=\"data row2 col9\" >6.140000</td>\n",
       "    </tr>\n",
       "    <tr>\n",
       "      <th id=\"T_28030_level0_row3\" class=\"row_heading level0 row3\" >3</th>\n",
       "      <td id=\"T_28030_row3_col0\" class=\"data row3 col0\" >73577.000000</td>\n",
       "      <td id=\"T_28030_row3_col1\" class=\"data row3 col1\" >Adult</td>\n",
       "      <td id=\"T_28030_row3_col2\" class=\"data row3 col2\" >32.000000</td>\n",
       "      <td id=\"T_28030_row3_col3\" class=\"data row3 col3\" >1.000000</td>\n",
       "      <td id=\"T_28030_row3_col4\" class=\"data row3 col4\" >2.000000</td>\n",
       "      <td id=\"T_28030_row3_col5\" class=\"data row3 col5\" >28.900000</td>\n",
       "      <td id=\"T_28030_row3_col6\" class=\"data row3 col6\" >104.000000</td>\n",
       "      <td id=\"T_28030_row3_col7\" class=\"data row3 col7\" >2.000000</td>\n",
       "      <td id=\"T_28030_row3_col8\" class=\"data row3 col8\" >84.000000</td>\n",
       "      <td id=\"T_28030_row3_col9\" class=\"data row3 col9\" >16.150000</td>\n",
       "    </tr>\n",
       "    <tr>\n",
       "      <th id=\"T_28030_level0_row4\" class=\"row_heading level0 row4\" >4</th>\n",
       "      <td id=\"T_28030_row4_col0\" class=\"data row4 col0\" >73580.000000</td>\n",
       "      <td id=\"T_28030_row4_col1\" class=\"data row4 col1\" >Adult</td>\n",
       "      <td id=\"T_28030_row4_col2\" class=\"data row4 col2\" >38.000000</td>\n",
       "      <td id=\"T_28030_row4_col3\" class=\"data row4 col3\" >2.000000</td>\n",
       "      <td id=\"T_28030_row4_col4\" class=\"data row4 col4\" >1.000000</td>\n",
       "      <td id=\"T_28030_row4_col5\" class=\"data row4 col5\" >35.900000</td>\n",
       "      <td id=\"T_28030_row4_col6\" class=\"data row4 col6\" >103.000000</td>\n",
       "      <td id=\"T_28030_row4_col7\" class=\"data row4 col7\" >2.000000</td>\n",
       "      <td id=\"T_28030_row4_col8\" class=\"data row4 col8\" >81.000000</td>\n",
       "      <td id=\"T_28030_row4_col9\" class=\"data row4 col9\" >10.920000</td>\n",
       "    </tr>\n",
       "  </tbody>\n",
       "</table>\n"
      ],
      "text/plain": [
       "<pandas.io.formats.style.Styler at 0x200fed07250>"
      ]
     },
     "metadata": {},
     "output_type": "display_data"
    }
   ],
   "source": [
    "# Displaying basic information about the dataset\n",
    "print(\"Size of the dataset (rows, columns):\", data.shape)\n",
    "print(\"\\nFirst five rows of the dataset:\")\n",
    "display(data.head().style.set_table_styles(\n",
    "    [{'selector': 'th', 'props': [('font-size', '10pt')]}],\n",
    "    [{'selector': 'td', 'props': [('text-align', 'center')]}]\n",
    "))"
   ]
  },
  {
   "cell_type": "code",
   "execution_count": null,
   "id": "8e5bbdfd",
   "metadata": {},
   "outputs": [],
   "source": []
  }
 ],
 "metadata": {
  "kernelspec": {
   "display_name": "Python 3 (ipykernel)",
   "language": "python",
   "name": "python3"
  },
  "language_info": {
   "codemirror_mode": {
    "name": "ipython",
    "version": 3
   },
   "file_extension": ".py",
   "mimetype": "text/x-python",
   "name": "python",
   "nbconvert_exporter": "python",
   "pygments_lexer": "ipython3",
   "version": "3.11.4"
  }
 },
 "nbformat": 4,
 "nbformat_minor": 5
}
